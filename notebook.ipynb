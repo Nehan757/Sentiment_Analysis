{
 "cells": [
  {
   "metadata": {
    "ExecuteTime": {
     "end_time": "2024-06-08T12:00:55.841875Z",
     "start_time": "2024-06-08T12:00:55.810327Z"
    }
   },
   "cell_type": "code",
   "source": [
    "import spacy\n",
    "import nltk\n",
    "from nltk.corpus import stopwords\n",
    "from nltk.tokenize import word_tokenize, sent_tokenize\n",
    "from nltk.stem import WordNetLemmatizer\n",
    "from transformers import pipeline"
   ],
   "id": "bec93c8edcd1153b",
   "outputs": [],
   "execution_count": 94
  },
  {
   "metadata": {
    "ExecuteTime": {
     "end_time": "2024-06-08T12:00:55.952880Z",
     "start_time": "2024-06-08T12:00:55.907408Z"
    }
   },
   "cell_type": "code",
   "source": [
    "# Download necessary resources\n",
    "nltk.download('punkt')\n",
    "nltk.download('stopwords')\n",
    "nltk.download('wordnet')"
   ],
   "id": "114fbb327f61bfd0",
   "outputs": [
    {
     "name": "stderr",
     "output_type": "stream",
     "text": [
      "[nltk_data] Downloading package punkt to\n",
      "[nltk_data]     C:\\Users\\nehan\\AppData\\Roaming\\nltk_data...\n",
      "[nltk_data]   Package punkt is already up-to-date!\n",
      "[nltk_data] Downloading package stopwords to\n",
      "[nltk_data]     C:\\Users\\nehan\\AppData\\Roaming\\nltk_data...\n",
      "[nltk_data]   Package stopwords is already up-to-date!\n",
      "[nltk_data] Downloading package wordnet to\n",
      "[nltk_data]     C:\\Users\\nehan\\AppData\\Roaming\\nltk_data...\n",
      "[nltk_data]   Package wordnet is already up-to-date!\n"
     ]
    },
    {
     "data": {
      "text/plain": [
       "True"
      ]
     },
     "execution_count": 95,
     "metadata": {},
     "output_type": "execute_result"
    }
   ],
   "execution_count": 95
  },
  {
   "metadata": {
    "ExecuteTime": {
     "end_time": "2024-06-08T12:01:14.800629Z",
     "start_time": "2024-06-08T12:00:55.987433Z"
    }
   },
   "cell_type": "code",
   "source": "!python -m spacy download en_core_web_sm",
   "id": "72e416a3e70cc809",
   "outputs": [
    {
     "name": "stdout",
     "output_type": "stream",
     "text": [
      "Collecting en-core-web-sm==3.7.1\n",
      "  Downloading https://github.com/explosion/spacy-models/releases/download/en_core_web_sm-3.7.1/en_core_web_sm-3.7.1-py3-none-any.whl (12.8 MB)\n",
      "     ---------------------------------------- 0.0/12.8 MB ? eta -:--:--\n",
      "     ---------------------------------------- 0.0/12.8 MB ? eta -:--:--\n",
      "     ---------------------------------------- 0.0/12.8 MB ? eta -:--:--\n",
      "     ---------------------------------------- 0.0/12.8 MB ? eta -:--:--\n",
      "     --------------------------------------- 0.0/12.8 MB 186.2 kB/s eta 0:01:09\n",
      "     --------------------------------------- 0.0/12.8 MB 196.9 kB/s eta 0:01:05\n",
      "     --------------------------------------- 0.1/12.8 MB 403.5 kB/s eta 0:00:32\n",
      "     - -------------------------------------- 0.6/12.8 MB 2.0 MB/s eta 0:00:07\n",
      "     --- ------------------------------------ 1.2/12.8 MB 4.0 MB/s eta 0:00:03\n",
      "     ----- ---------------------------------- 1.6/12.8 MB 4.7 MB/s eta 0:00:03\n",
      "     ------- -------------------------------- 2.2/12.8 MB 5.7 MB/s eta 0:00:02\n",
      "     -------- ------------------------------- 2.6/12.8 MB 5.7 MB/s eta 0:00:02\n",
      "     --------- ------------------------------ 3.1/12.8 MB 6.3 MB/s eta 0:00:02\n",
      "     ------------- -------------------------- 4.5/12.8 MB 8.2 MB/s eta 0:00:02\n",
      "     ---------------- ----------------------- 5.2/12.8 MB 8.7 MB/s eta 0:00:01\n",
      "     ----------------- ---------------------- 5.7/12.8 MB 8.8 MB/s eta 0:00:01\n",
      "     ------------------- -------------------- 6.3/12.8 MB 9.0 MB/s eta 0:00:01\n",
      "     ---------------------- ----------------- 7.3/12.8 MB 9.9 MB/s eta 0:00:01\n",
      "     ------------------------- -------------- 8.3/12.8 MB 10.3 MB/s eta 0:00:01\n",
      "     ----------------------------- ---------- 9.3/12.8 MB 11.2 MB/s eta 0:00:01\n",
      "     ------------------------------ -------- 10.0/12.8 MB 11.4 MB/s eta 0:00:01\n",
      "     --------------------------------- ----- 11.0/12.8 MB 16.0 MB/s eta 0:00:01\n",
      "     ------------------------------------ -- 11.8/12.8 MB 16.0 MB/s eta 0:00:01\n",
      "     ------------------------------------- - 12.3/12.8 MB 16.4 MB/s eta 0:00:01\n",
      "     --------------------------------------  12.6/12.8 MB 16.0 MB/s eta 0:00:01\n",
      "     --------------------------------------  12.8/12.8 MB 16.0 MB/s eta 0:00:01\n",
      "     --------------------------------------  12.8/12.8 MB 16.0 MB/s eta 0:00:01\n",
      "     --------------------------------------- 12.8/12.8 MB 13.3 MB/s eta 0:00:00\n",
      "Requirement already satisfied: spacy<3.8.0,>=3.7.2 in c:\\users\\nehan\\.conda\\envs\\nlp\\lib\\site-packages (from en-core-web-sm==3.7.1) (3.7.4)\n",
      "Requirement already satisfied: spacy-legacy<3.1.0,>=3.0.11 in c:\\users\\nehan\\.conda\\envs\\nlp\\lib\\site-packages (from spacy<3.8.0,>=3.7.2->en-core-web-sm==3.7.1) (3.0.12)\n",
      "Requirement already satisfied: spacy-loggers<2.0.0,>=1.0.0 in c:\\users\\nehan\\.conda\\envs\\nlp\\lib\\site-packages (from spacy<3.8.0,>=3.7.2->en-core-web-sm==3.7.1) (1.0.5)\n",
      "Requirement already satisfied: murmurhash<1.1.0,>=0.28.0 in c:\\users\\nehan\\.conda\\envs\\nlp\\lib\\site-packages (from spacy<3.8.0,>=3.7.2->en-core-web-sm==3.7.1) (1.0.10)\n",
      "Requirement already satisfied: cymem<2.1.0,>=2.0.2 in c:\\users\\nehan\\.conda\\envs\\nlp\\lib\\site-packages (from spacy<3.8.0,>=3.7.2->en-core-web-sm==3.7.1) (2.0.8)\n",
      "Requirement already satisfied: preshed<3.1.0,>=3.0.2 in c:\\users\\nehan\\.conda\\envs\\nlp\\lib\\site-packages (from spacy<3.8.0,>=3.7.2->en-core-web-sm==3.7.1) (3.0.9)\n",
      "Requirement already satisfied: thinc<8.3.0,>=8.2.2 in c:\\users\\nehan\\.conda\\envs\\nlp\\lib\\site-packages (from spacy<3.8.0,>=3.7.2->en-core-web-sm==3.7.1) (8.2.3)\n",
      "Requirement already satisfied: wasabi<1.2.0,>=0.9.1 in c:\\users\\nehan\\.conda\\envs\\nlp\\lib\\site-packages (from spacy<3.8.0,>=3.7.2->en-core-web-sm==3.7.1) (1.1.3)\n",
      "Requirement already satisfied: srsly<3.0.0,>=2.4.3 in c:\\users\\nehan\\.conda\\envs\\nlp\\lib\\site-packages (from spacy<3.8.0,>=3.7.2->en-core-web-sm==3.7.1) (2.4.8)\n",
      "Requirement already satisfied: catalogue<2.1.0,>=2.0.6 in c:\\users\\nehan\\.conda\\envs\\nlp\\lib\\site-packages (from spacy<3.8.0,>=3.7.2->en-core-web-sm==3.7.1) (2.0.10)\n",
      "Requirement already satisfied: weasel<0.4.0,>=0.1.0 in c:\\users\\nehan\\.conda\\envs\\nlp\\lib\\site-packages (from spacy<3.8.0,>=3.7.2->en-core-web-sm==3.7.1) (0.3.4)\n",
      "Requirement already satisfied: typer<0.10.0,>=0.3.0 in c:\\users\\nehan\\.conda\\envs\\nlp\\lib\\site-packages (from spacy<3.8.0,>=3.7.2->en-core-web-sm==3.7.1) (0.9.4)\n",
      "Requirement already satisfied: smart-open<7.0.0,>=5.2.1 in c:\\users\\nehan\\.conda\\envs\\nlp\\lib\\site-packages (from spacy<3.8.0,>=3.7.2->en-core-web-sm==3.7.1) (6.4.0)\n",
      "Requirement already satisfied: tqdm<5.0.0,>=4.38.0 in c:\\users\\nehan\\.conda\\envs\\nlp\\lib\\site-packages (from spacy<3.8.0,>=3.7.2->en-core-web-sm==3.7.1) (4.66.2)\n",
      "Requirement already satisfied: requests<3.0.0,>=2.13.0 in c:\\users\\nehan\\.conda\\envs\\nlp\\lib\\site-packages (from spacy<3.8.0,>=3.7.2->en-core-web-sm==3.7.1) (2.31.0)\n",
      "Requirement already satisfied: pydantic!=1.8,!=1.8.1,<3.0.0,>=1.7.4 in c:\\users\\nehan\\.conda\\envs\\nlp\\lib\\site-packages (from spacy<3.8.0,>=3.7.2->en-core-web-sm==3.7.1) (2.6.4)\n",
      "Requirement already satisfied: jinja2 in c:\\users\\nehan\\.conda\\envs\\nlp\\lib\\site-packages (from spacy<3.8.0,>=3.7.2->en-core-web-sm==3.7.1) (3.1.3)\n",
      "Requirement already satisfied: setuptools in c:\\users\\nehan\\.conda\\envs\\nlp\\lib\\site-packages (from spacy<3.8.0,>=3.7.2->en-core-web-sm==3.7.1) (69.2.0)\n",
      "Requirement already satisfied: packaging>=20.0 in c:\\users\\nehan\\.conda\\envs\\nlp\\lib\\site-packages (from spacy<3.8.0,>=3.7.2->en-core-web-sm==3.7.1) (23.2)\n",
      "Requirement already satisfied: langcodes<4.0.0,>=3.2.0 in c:\\users\\nehan\\.conda\\envs\\nlp\\lib\\site-packages (from spacy<3.8.0,>=3.7.2->en-core-web-sm==3.7.1) (3.4.0)\n",
      "Requirement already satisfied: numpy>=1.19.0 in c:\\users\\nehan\\.conda\\envs\\nlp\\lib\\site-packages (from spacy<3.8.0,>=3.7.2->en-core-web-sm==3.7.1) (1.26.4)\n",
      "Requirement already satisfied: language-data>=1.2 in c:\\users\\nehan\\.conda\\envs\\nlp\\lib\\site-packages (from langcodes<4.0.0,>=3.2.0->spacy<3.8.0,>=3.7.2->en-core-web-sm==3.7.1) (1.2.0)\n",
      "Requirement already satisfied: annotated-types>=0.4.0 in c:\\users\\nehan\\.conda\\envs\\nlp\\lib\\site-packages (from pydantic!=1.8,!=1.8.1,<3.0.0,>=1.7.4->spacy<3.8.0,>=3.7.2->en-core-web-sm==3.7.1) (0.6.0)\n",
      "Requirement already satisfied: pydantic-core==2.16.3 in c:\\users\\nehan\\.conda\\envs\\nlp\\lib\\site-packages (from pydantic!=1.8,!=1.8.1,<3.0.0,>=1.7.4->spacy<3.8.0,>=3.7.2->en-core-web-sm==3.7.1) (2.16.3)\n",
      "Requirement already satisfied: typing-extensions>=4.6.1 in c:\\users\\nehan\\.conda\\envs\\nlp\\lib\\site-packages (from pydantic!=1.8,!=1.8.1,<3.0.0,>=1.7.4->spacy<3.8.0,>=3.7.2->en-core-web-sm==3.7.1) (4.11.0)\n",
      "Requirement already satisfied: charset-normalizer<4,>=2 in c:\\users\\nehan\\.conda\\envs\\nlp\\lib\\site-packages (from requests<3.0.0,>=2.13.0->spacy<3.8.0,>=3.7.2->en-core-web-sm==3.7.1) (3.3.2)\n",
      "Requirement already satisfied: idna<4,>=2.5 in c:\\users\\nehan\\.conda\\envs\\nlp\\lib\\site-packages (from requests<3.0.0,>=2.13.0->spacy<3.8.0,>=3.7.2->en-core-web-sm==3.7.1) (3.6)\n",
      "Requirement already satisfied: urllib3<3,>=1.21.1 in c:\\users\\nehan\\.conda\\envs\\nlp\\lib\\site-packages (from requests<3.0.0,>=2.13.0->spacy<3.8.0,>=3.7.2->en-core-web-sm==3.7.1) (2.2.1)\n",
      "Requirement already satisfied: certifi>=2017.4.17 in c:\\users\\nehan\\.conda\\envs\\nlp\\lib\\site-packages (from requests<3.0.0,>=2.13.0->spacy<3.8.0,>=3.7.2->en-core-web-sm==3.7.1) (2024.2.2)\n",
      "Requirement already satisfied: blis<0.8.0,>=0.7.8 in c:\\users\\nehan\\.conda\\envs\\nlp\\lib\\site-packages (from thinc<8.3.0,>=8.2.2->spacy<3.8.0,>=3.7.2->en-core-web-sm==3.7.1) (0.7.11)\n",
      "Requirement already satisfied: confection<1.0.0,>=0.0.1 in c:\\users\\nehan\\.conda\\envs\\nlp\\lib\\site-packages (from thinc<8.3.0,>=8.2.2->spacy<3.8.0,>=3.7.2->en-core-web-sm==3.7.1) (0.1.5)\n",
      "Requirement already satisfied: colorama in c:\\users\\nehan\\.conda\\envs\\nlp\\lib\\site-packages (from tqdm<5.0.0,>=4.38.0->spacy<3.8.0,>=3.7.2->en-core-web-sm==3.7.1) (0.4.6)\n",
      "Requirement already satisfied: click<9.0.0,>=7.1.1 in c:\\users\\nehan\\.conda\\envs\\nlp\\lib\\site-packages (from typer<0.10.0,>=0.3.0->spacy<3.8.0,>=3.7.2->en-core-web-sm==3.7.1) (8.1.7)\n",
      "Requirement already satisfied: cloudpathlib<0.17.0,>=0.7.0 in c:\\users\\nehan\\.conda\\envs\\nlp\\lib\\site-packages (from weasel<0.4.0,>=0.1.0->spacy<3.8.0,>=3.7.2->en-core-web-sm==3.7.1) (0.16.0)\n",
      "Requirement already satisfied: MarkupSafe>=2.0 in c:\\users\\nehan\\.conda\\envs\\nlp\\lib\\site-packages (from jinja2->spacy<3.8.0,>=3.7.2->en-core-web-sm==3.7.1) (2.1.5)\n",
      "Requirement already satisfied: marisa-trie>=0.7.7 in c:\\users\\nehan\\.conda\\envs\\nlp\\lib\\site-packages (from language-data>=1.2->langcodes<4.0.0,>=3.2.0->spacy<3.8.0,>=3.7.2->en-core-web-sm==3.7.1) (1.1.1)\n",
      "\u001B[38;5;2m[+] Download and installation successful\u001B[0m\n",
      "You can now load the package via spacy.load('en_core_web_sm')\n"
     ]
    }
   ],
   "execution_count": 96
  },
  {
   "metadata": {
    "ExecuteTime": {
     "end_time": "2024-06-08T12:01:15.581401Z",
     "start_time": "2024-06-08T12:01:14.800629Z"
    }
   },
   "cell_type": "code",
   "source": [
    "# Load the spaCy model\n",
    "nlp = spacy.load(\"en_core_web_sm\")\n",
    "\n",
    "# Preprocessing functions\n",
    "stop_words = set(stopwords.words('english'))\n",
    "lemmatizer = WordNetLemmatizer()\n"
   ],
   "id": "c2afe96fcfdd69a3",
   "outputs": [],
   "execution_count": 97
  },
  {
   "metadata": {
    "ExecuteTime": {
     "end_time": "2024-06-08T12:01:15.596793Z",
     "start_time": "2024-06-08T12:01:15.581401Z"
    }
   },
   "cell_type": "code",
   "source": [
    "\n",
    "def preprocess_text(text):\n",
    "    sentences = sent_tokenize(text)\n",
    "    preprocessed_sentences = []\n",
    "    for sentence in sentences:\n",
    "        words = word_tokenize(sentence)\n",
    "        words = [lemmatizer.lemmatize(word) for word in words if word.isalnum()]\n",
    "        preprocessed_sentences.append(' '.join(words))\n",
    "    return preprocessed_sentences"
   ],
   "id": "a76d99a85919fa57",
   "outputs": [],
   "execution_count": 98
  },
  {
   "metadata": {
    "ExecuteTime": {
     "end_time": "2024-06-08T12:01:15.612818Z",
     "start_time": "2024-06-08T12:01:15.597305Z"
    }
   },
   "cell_type": "code",
   "source": [
    "# Improved subtheme extraction function\n",
    "\n",
    "def extract_subthemes(text):\n",
    "    doc = nlp(text)\n",
    "    subthemes = [chunk.text for chunk in doc.noun_chunks]\n",
    "    return subthemes"
   ],
   "id": "1f6bdafc84d0f8e7",
   "outputs": [],
   "execution_count": 99
  },
  {
   "metadata": {
    "ExecuteTime": {
     "end_time": "2024-06-08T12:01:17.502822Z",
     "start_time": "2024-06-08T12:01:15.615825Z"
    }
   },
   "cell_type": "code",
   "source": "sentiment_pipeline = pipeline(\"sentiment-analysis\")\n",
   "id": "e8d6279587353217",
   "outputs": [
    {
     "name": "stderr",
     "output_type": "stream",
     "text": [
      "No model was supplied, defaulted to distilbert/distilbert-base-uncased-finetuned-sst-2-english and revision af0f99b (https://huggingface.co/distilbert/distilbert-base-uncased-finetuned-sst-2-english).\n",
      "Using a pipeline without specifying a model name and revision in production is not recommended.\n"
     ]
    }
   ],
   "execution_count": 100
  },
  {
   "metadata": {
    "ExecuteTime": {
     "end_time": "2024-06-08T12:01:17.518926Z",
     "start_time": "2024-06-08T12:01:17.502822Z"
    }
   },
   "cell_type": "code",
   "source": [
    "# Sentiment analysis function\n",
    "\n",
    "def analyze_sentiments(sentences):\n",
    "    sentiments = [(sentence, sentiment_pipeline(sentence)[0]['label']) for sentence in sentences]\n",
    "    return sentiments"
   ],
   "id": "9bcc1922b4cf6212",
   "outputs": [],
   "execution_count": 101
  },
  {
   "metadata": {
    "ExecuteTime": {
     "end_time": "2024-06-08T12:01:17.534890Z",
     "start_time": "2024-06-08T12:01:17.518926Z"
    }
   },
   "cell_type": "code",
   "source": [
    "# Improved matching of subthemes with sentiments\n",
    "\n",
    "def get_subtheme_sentiments(review):\n",
    "    preprocessed_sentences = preprocess_text(review)\n",
    "    subthemes = extract_subthemes(review)\n",
    "    sentiments = analyze_sentiments(preprocessed_sentences)\n",
    "    \n",
    "    subtheme_sentiments = {}\n",
    "    for subtheme in subthemes:\n",
    "        subtheme_sentiments[subtheme] = 'NEUTRAL'\n",
    "\n",
    "    for sentence, sentiment in sentiments:\n",
    "        for subtheme in subthemes:\n",
    "            if subtheme in sentence or subtheme.lower() in sentence.lower():\n",
    "                subtheme_sentiments[subtheme] = sentiment\n",
    "    \n",
    "    # Handle pronouns\n",
    "    resolved_subtheme_sentiments = []\n",
    "    for subtheme, sentiment in subtheme_sentiments.items():\n",
    "        if subtheme.lower() in ['it', 'they', 'them']:\n",
    "            # Find the previous subtheme that is not a pronoun\n",
    "            for prev_subtheme, prev_sentiment in reversed(resolved_subtheme_sentiments):\n",
    "                if prev_subtheme.lower() not in ['it', 'they', 'them']:\n",
    "                    subtheme = prev_subtheme\n",
    "                    break\n",
    "        resolved_subtheme_sentiments.append((subtheme, sentiment))\n",
    "\n",
    "    # Remove duplicates by keeping the first occurrence\n",
    "    unique_subtheme_sentiments = []\n",
    "    seen_subthemes = set()\n",
    "    for subtheme, sentiment in resolved_subtheme_sentiments:\n",
    "        if subtheme not in seen_subthemes:\n",
    "            unique_subtheme_sentiments.append((subtheme, sentiment))\n",
    "            seen_subthemes.add(subtheme)\n",
    "\n",
    "    return unique_subtheme_sentiments"
   ],
   "id": "cf6d5466d9f6dcc8",
   "outputs": [],
   "execution_count": 102
  },
  {
   "metadata": {
    "ExecuteTime": {
     "end_time": "2024-06-08T12:01:17.676620Z",
     "start_time": "2024-06-08T12:01:17.537443Z"
    }
   },
   "cell_type": "code",
   "source": [
    "# Example review\n",
    "review = \"One tyre went missing, so there was a delay to get the two tyres fitted. The way garage dealt with it was fantastic.\"\n",
    "\n",
    "subtheme_sentiments = get_subtheme_sentiments(review)\n",
    "print(subtheme_sentiments)\n",
    "\n"
   ],
   "id": "e408d193cbadd00",
   "outputs": [
    {
     "name": "stdout",
     "output_type": "stream",
     "text": [
      "[('One tyre', 'NEGATIVE'), ('a delay', 'NEGATIVE'), ('the two tyres', 'NEUTRAL'), ('The way garage', 'POSITIVE')]\n"
     ]
    }
   ],
   "execution_count": 103
  }
 ],
 "metadata": {
  "kernelspec": {
   "display_name": "Python 3",
   "language": "python",
   "name": "python3"
  },
  "language_info": {
   "codemirror_mode": {
    "name": "ipython",
    "version": 2
   },
   "file_extension": ".py",
   "mimetype": "text/x-python",
   "name": "python",
   "nbconvert_exporter": "python",
   "pygments_lexer": "ipython2",
   "version": "2.7.6"
  }
 },
 "nbformat": 4,
 "nbformat_minor": 5
}
